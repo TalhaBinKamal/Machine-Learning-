{
  "nbformat": 4,
  "nbformat_minor": 0,
  "metadata": {
    "colab": {
      "provenance": [],
      "include_colab_link": true
    },
    "kernelspec": {
      "name": "python3",
      "display_name": "Python 3"
    },
    "language_info": {
      "name": "python"
    }
  },
  "cells": [
    {
      "cell_type": "markdown",
      "metadata": {
        "id": "view-in-github",
        "colab_type": "text"
      },
      "source": [
        "<a href=\"https://colab.research.google.com/github/TalhaBinKamal/Machine-Learning-/blob/master/Refrigeration_Cycle_Calculation.ipynb\" target=\"_parent\"><img src=\"https://colab.research.google.com/assets/colab-badge.svg\" alt=\"Open In Colab\"/></a>"
      ]
    },
    {
      "cell_type": "code",
      "source": [
        "from google.colab import drive\n",
        "drive.mount('/content/drive')"
      ],
      "metadata": {
        "id": "Yp-vMDy67Ekq"
      },
      "execution_count": null,
      "outputs": []
    },
    {
      "cell_type": "code",
      "source": [
        "df=pd.read_csv('/content/drive/MyDrive/Colab Notebooks/data.CSV')"
      ],
      "metadata": {
        "id": "GELNmNbq7h5i"
      },
      "execution_count": null,
      "outputs": []
    },
    {
      "cell_type": "code",
      "source": [
        "import CoolProp as cp\n",
        "import pandas as pd\n",
        "import openpyxl\n",
        "from CoolProp.CoolProp import PropsSI\n",
        "import CoolProp.CoolProp as CP\n",
        "import openpyxl"
      ],
      "metadata": {
        "id": "9fAV1quosoM5"
      },
      "execution_count": null,
      "outputs": []
    },
    {
      "cell_type": "code",
      "source": [
        "s2=44.1+273.15"
      ],
      "metadata": {
        "id": "Umjk9y924WWa"
      },
      "execution_count": null,
      "outputs": []
    },
    {
      "cell_type": "code",
      "source": [
        "cylider_displacement=float(input('Cylinder Displacement(cc/rev):'))\n",
        "bore_dia=float(input('Bore Diameter (mm):'))\n",
        "rps=float(input('RPS:'))\n",
        "s2=float(input('Suction Temperature (C):'))+ 273.15\n",
        "s=float(input('Strainer Temperature (C):'))+ 273.15\n",
        "ps=float(input('Suction Pressure (MPa):'))* 1000000\n",
        "pd=float(input('Discharge Pressure (MPa):'))* 1000000"
      ],
      "metadata": {
        "colab": {
          "base_uri": "https://localhost:8080/"
        },
        "id": "3Nx72pDRtCw_",
        "outputId": "502f654f-8af6-4810-bab2-68e9799d36db"
      },
      "execution_count": null,
      "outputs": [
        {
          "name": "stdout",
          "output_type": "stream",
          "text": [
            "Cylinder Displacement(cc/rev):15.31\n",
            "Bore Diameter (mm):27.55\n",
            "RPS:62\n",
            "Suction Temperature (C):44.1\n",
            "Strainer Temperature (C):47.6\n",
            "Suction Pressure (MPa):0.035\n",
            "Discharge Pressure (MPa):0.701\n"
          ]
        }
      ]
    },
    {
      "cell_type": "code",
      "source": [
        "t_1 = s2\n",
        "p_1 = ps\n",
        "h_1 = PropsSI('H', 'T', t_1, 'P', p_1, 'R600a')\n",
        "s_1 = PropsSI('S', 'T', t_1, 'P', p_1, 'R600a')\n",
        "d_1 = PropsSI('D', 'T', t_1, 'P', p_1, 'R600a')\n",
        "q_1 = PropsSI('Q', 'T', t_1, 'P', p_1, 'R600a')\n",
        "\n",
        "p_2 = pd\n",
        "s_2 = s_1\n",
        "t_2 = PropsSI('T', 'P', p_2, 'S', s_2, 'R600a')\n",
        "h_2 = PropsSI('H', 'P', p_2, 'S', s_2, 'R600a')\n",
        "d_2 = PropsSI('D', 'P', p_2, 'S', s_2, 'R600a')\n",
        "\n",
        "t_3 = s\n",
        "p_3 = pd\n",
        "h_3 = PropsSI('H', 'T', t_3, 'P', p_3, 'R600a')\n",
        "s_3 = PropsSI('S', 'T', t_3, 'P', p_3, 'R600a')\n",
        "d_3 = PropsSI('D', 'T', t_3, 'P', p_3, 'R600a')\n",
        "\n",
        "p_4 = ps\n",
        "h_4 = h_3\n",
        "t_4 = PropsSI('T', 'P', p_4, 'H', h_4, 'R600a')\n",
        "s_4 = PropsSI('S', 'P', p_4, 'H', h_4, 'R600a')\n",
        "d_4 = PropsSI('D', 'P', p_4, 'H', h_4, 'R600a')"
      ],
      "metadata": {
        "id": "Gb2DSEWSuuYq"
      },
      "execution_count": null,
      "outputs": []
    },
    {
      "cell_type": "code",
      "source": [
        "cop = (h_1 - h_4) / (h_2 - h_1)\n",
        "volume = (cylider_displacement / (10 ** 6)) * rps * 3600\n",
        "loss_volume = (3.14159265358979 / 4) * ((bore_dia / 1000) ** 2) * (10 ** -6) * rps * 3600\n",
        "mass_flowrate = d_1 * (volume - loss_volume * (pd / ps))\n",
        "compressor_work = (h_2 * (mass_flowrate / 3600)) - (h_1 * (mass_flowrate / 3600))\n",
        "evaporator_work = (h_1 * (mass_flowrate / 3600)) - (h_4 * (mass_flowrate / 3600))\n",
        "condenser_work = (h_2 * (mass_flowrate / 3600)) - (h_3 * (mass_flowrate / 3600))\n",
        "refrigeration_effect = (h_1 / 1000) - (h_4 / 1000)"
      ],
      "metadata": {
        "id": "CIeEaarIwiiK"
      },
      "execution_count": null,
      "outputs": []
    },
    {
      "cell_type": "code",
      "source": [
        "print(f'cop:{cop}')\n",
        "print(f'volume (m3/hr):{volume}')\n",
        "print(f'loss_volume (m3/hr):{loss_volume}')\n",
        "print(f'mass_flowrate (kg/hr):{mass_flowrate}')\n",
        "print(f'compressor_work (Watt):{compressor_work}')\n",
        "print(f'evaporator_work (Watt):{evaporator_work}')\n",
        "print(f'condenser_work (Watt):{condenser_work}')\n",
        "print(f'refrigeration_effect (kj/kg):{refrigeration_effect}')"
      ],
      "metadata": {
        "colab": {
          "base_uri": "https://localhost:8080/"
        },
        "id": "JpXVFX5jyR8h",
        "outputId": "7bf81c63-8945-45df-a1d0-260cc7070082"
      },
      "execution_count": null,
      "outputs": [
        {
          "output_type": "stream",
          "name": "stdout",
          "text": [
            "cop:2.1324044370864166\n",
            "volume (m3/hr):3.4171920000000005\n",
            "loss_volume (m3/hr):0.00013305379863554068\n",
            "mass_flowrate (kg/hr):2.65280952279931\n",
            "compressor_work (Watt):109.68327179679704\n",
            "evaporator_work (Watt):233.88909545364552\n",
            "condenser_work (Watt):343.57236725044254\n",
            "refrigeration_effect (kj/kg):317.3996234545419\n"
          ]
        }
      ]
    }
  ]
}